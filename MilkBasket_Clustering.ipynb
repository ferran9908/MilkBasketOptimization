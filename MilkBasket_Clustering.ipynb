{
  "nbformat": 4,
  "nbformat_minor": 0,
  "metadata": {
    "colab": {
      "name": "MilkBasket Clustering.ipynb",
      "provenance": [],
      "private_outputs": true,
      "collapsed_sections": [],
      "include_colab_link": true
    },
    "kernelspec": {
      "name": "python3",
      "display_name": "Python 3"
    },
    "accelerator": "GPU"
  },
  "cells": [
    {
      "cell_type": "markdown",
      "metadata": {
        "id": "view-in-github",
        "colab_type": "text"
      },
      "source": [
        "<a href=\"https://colab.research.google.com/github/ferran9908/MilkBasketOptimization/blob/master/MilkBasket_Clustering.ipynb\" target=\"_parent\"><img src=\"https://colab.research.google.com/assets/colab-badge.svg\" alt=\"Open In Colab\"/></a>"
      ]
    },
    {
      "cell_type": "markdown",
      "metadata": {
        "id": "fNlfnBDDBBTE",
        "colab_type": "text"
      },
      "source": [
        "## Import Data"
      ]
    },
    {
      "cell_type": "code",
      "metadata": {
        "id": "TqYg2SVb5INo",
        "colab_type": "code",
        "colab": {}
      },
      "source": [
        "from google.colab import drive\n",
        "drive.mount('/content/drive')"
      ],
      "execution_count": 0,
      "outputs": []
    },
    {
      "cell_type": "markdown",
      "metadata": {
        "id": "QLa2lgDoA6e6",
        "colab_type": "text"
      },
      "source": [
        ""
      ]
    },
    {
      "cell_type": "code",
      "metadata": {
        "id": "eT7T9ZD1-YNs",
        "colab_type": "code",
        "colab": {}
      },
      "source": [
        "!pip install pandasql\n",
        "import numpy as np\n",
        "import pandas as pd\n",
        "from IPython.display import display\n",
        "import pandasql\n",
        "import matplotlib.pyplot as plt\n",
        "\n"
      ],
      "execution_count": 0,
      "outputs": []
    },
    {
      "cell_type": "code",
      "metadata": {
        "id": "CuxCMW55-urq",
        "colab_type": "code",
        "colab": {}
      },
      "source": [
        "!ls \"/content/drive/My Drive/MilkBasket\""
      ],
      "execution_count": 0,
      "outputs": []
    },
    {
      "cell_type": "code",
      "metadata": {
        "id": "Bur7Sktx-6-2",
        "colab_type": "code",
        "colab": {}
      },
      "source": [
        "data = pd.read_csv(\"/content/drive/My Drive/MilkBasket/hackathon_data.csv\")\n",
        "#data = data.head(2000000)"
      ],
      "execution_count": 0,
      "outputs": []
    },
    {
      "cell_type": "code",
      "metadata": {
        "id": "Z2xPX_RfD2P7",
        "colab_type": "code",
        "colab": {}
      },
      "source": [
        "pd.plotting.scatter_matrix(TrainData, alpha = 0.3, figsize = (14,10), diagonal='kde');\n",
        "plt.show()"
      ],
      "execution_count": 0,
      "outputs": []
    },
    {
      "cell_type": "code",
      "metadata": {
        "id": "iTBhhveGMAw8",
        "colab_type": "code",
        "colab": {}
      },
      "source": [
        "from sklearn.model_selection import train_test_split\n",
        "TrainData,TestData = train_test_split(data,test_size=0.66)"
      ],
      "execution_count": 0,
      "outputs": []
    },
    {
      "cell_type": "code",
      "metadata": {
        "id": "1TfFPoUm3KXp",
        "colab_type": "code",
        "colab": {}
      },
      "source": [
        "CVdata,TestD = train_test_split(TestData,test_size=0.5)"
      ],
      "execution_count": 0,
      "outputs": []
    },
    {
      "cell_type": "code",
      "metadata": {
        "id": "1jCYgxMLqXW_",
        "colab_type": "code",
        "colab": {}
      },
      "source": [
        "TestD.head()"
      ],
      "execution_count": 0,
      "outputs": []
    },
    {
      "cell_type": "markdown",
      "metadata": {
        "id": "i5kvKMyABJrU",
        "colab_type": "text"
      },
      "source": [
        "##Convert Dates to days and time to discrete hours"
      ]
    },
    {
      "cell_type": "code",
      "metadata": {
        "id": "5zMFXfSsGwxn",
        "colab_type": "code",
        "colab": {}
      },
      "source": [
        "import datetime\n",
        "def day_time(data):\n",
        "  day=[]\n",
        "  time=[]\n",
        "  date=data['product_addedtobasket_on']\n",
        "  dates=date.tolist()\n",
        "  for date in dates:\n",
        "    a,b=date.split()\n",
        "    a=datetime.datetime.strptime(a,'%Y-%m-%d').strftime('%A')\n",
        "    b=int(b.split(':')[0])\n",
        "    day.append(a)\n",
        "    time.append(b)\n",
        "  return day,time\n",
        "  "
      ],
      "execution_count": 0,
      "outputs": []
    },
    {
      "cell_type": "code",
      "metadata": {
        "id": "wVtbtekYrFMk",
        "colab_type": "code",
        "colab": {}
      },
      "source": [
        "def day(data):\n",
        "  day=[]\n",
        "  date=data['order_date']\n",
        "  dates=date.tolist()\n",
        "  for date in dates:\n",
        "    a = date\n",
        "    #a,b=date.split()\n",
        "    a=datetime.datetime.strptime(a,'%Y-%m-%d').strftime('%A')\n",
        "    #b=int(b.split(':')[0])\n",
        "    day.append(a)\n",
        "    #time.append(b)\n",
        "  return day"
      ],
      "execution_count": 0,
      "outputs": []
    },
    {
      "cell_type": "code",
      "metadata": {
        "id": "gEcs49uWJ7CU",
        "colab_type": "code",
        "colab": {}
      },
      "source": [
        "a,b = day_time(TrainData)\n",
        "d = day(TrainData)"
      ],
      "execution_count": 0,
      "outputs": []
    },
    {
      "cell_type": "code",
      "metadata": {
        "id": "hV9hpWg2XckX",
        "colab_type": "code",
        "colab": {}
      },
      "source": [
        "TrainData['day'] = a\n",
        "TrainData['time'] = b\n",
        "TrainData['order_date'] = d"
      ],
      "execution_count": 0,
      "outputs": []
    },
    {
      "cell_type": "code",
      "metadata": {
        "id": "-pKFFN7QRHhj",
        "colab_type": "code",
        "colab": {}
      },
      "source": [
        "a,b = day_time(TestD)\n",
        "d = day(TestD)\n",
        "\n",
        "TestD['day'] = a\n",
        "TestD['time'] = b\n",
        "TestD['order_date'] = d"
      ],
      "execution_count": 0,
      "outputs": []
    },
    {
      "cell_type": "markdown",
      "metadata": {
        "id": "KGC_OhY51llT",
        "colab_type": "text"
      },
      "source": [
        "##Classification of Days and Hours into Weekdays and Weekends"
      ]
    },
    {
      "cell_type": "code",
      "metadata": {
        "id": "4tSwx7lpRD7h",
        "colab_type": "code",
        "colab": {}
      },
      "source": [
        "a,b = day_time(CVdata)\n",
        "d = day(CVdata)\n",
        "\n",
        "CVdata['day'] = a\n",
        "CVdata['time'] = b\n",
        "CVdata['order_date'] = d\n"
      ],
      "execution_count": 0,
      "outputs": []
    },
    {
      "cell_type": "code",
      "metadata": {
        "id": "tX0ifm_nLIpA",
        "colab_type": "code",
        "colab": {}
      },
      "source": [
        "def weekend_weekday(x):\n",
        "  if(x!='Saturday' or x!='Sunday'):\n",
        "    return 0\n",
        "  else:\n",
        "    return 1\n",
        "  \n",
        "TrainData['day'] = TrainData['day'].apply(weekend_weekday)\n",
        "TrainData['order_date'] = TrainData['order_date'].apply(weekend_weekday)\n",
        "\n",
        "TestD['day'] = TestD['day'].apply(weekend_weekday)\n",
        "TestD['order_date'] = TestD['order_date'].apply(weekend_weekday)"
      ],
      "execution_count": 0,
      "outputs": []
    },
    {
      "cell_type": "code",
      "metadata": {
        "id": "z4aMGr--Sn4C",
        "colab_type": "code",
        "colab": {}
      },
      "source": [
        "CVdata['day'] = CVdata['day'].apply(weekend_weekday)\n",
        "CVdata['order_date'] = CVdata['order_date'].apply(weekend_weekday)"
      ],
      "execution_count": 0,
      "outputs": []
    },
    {
      "cell_type": "markdown",
      "metadata": {
        "id": "eo12oxld2F0w",
        "colab_type": "text"
      },
      "source": [
        "##Finding Outliers to Identify Unique Customer Behaviour"
      ]
    },
    {
      "cell_type": "code",
      "metadata": {
        "id": "XHdZArZWWtOr",
        "colab_type": "code",
        "colab": {}
      },
      "source": [
        "TrainData = TrainData.drop(columns = ['product_addedtobasket_on'])\n",
        "TestD = TestD.drop(columns = ['product_addedtobasket_on'])\n",
        "\n",
        "CVdata = CVdata.drop(columns = ['product_addedtobasket_on'])\n"
      ],
      "execution_count": 0,
      "outputs": []
    },
    {
      "cell_type": "code",
      "metadata": {
        "id": "2nnX6kzUZndC",
        "colab_type": "code",
        "colab": {}
      },
      "source": [
        "def total_cost_outlier(x):\n",
        "  if(x>10000):\n",
        "    return 10000\n",
        "  else:\n",
        "    return x\n",
        "    "
      ],
      "execution_count": 0,
      "outputs": []
    },
    {
      "cell_type": "code",
      "metadata": {
        "id": "lx5b9_yRH_tc",
        "colab_type": "code",
        "colab": {}
      },
      "source": [
        "TrainData['total_cost'] = TrainData['total_cost'].apply(total_cost_outlier)\n",
        "TestD['total_cost'] = TestD['total_cost'].apply(total_cost_outlier)\n",
        "\n",
        "CVdata['total_cost'] = CVdata['total_cost'].apply(total_cost_outlier)"
      ],
      "execution_count": 0,
      "outputs": []
    },
    {
      "cell_type": "code",
      "metadata": {
        "id": "foJlqzX1aS3K",
        "colab_type": "code",
        "colab": {}
      },
      "source": [
        "from sklearn.preprocessing import StandardScaler\n",
        "ss = StandardScaler().fit(TrainData)\n",
        "standardized_data = ss.transform(TrainData)\n",
        "test = ss.transform(TestD)\n",
        "cv = ss.transform(CVdata)"
      ],
      "execution_count": 0,
      "outputs": []
    },
    {
      "cell_type": "code",
      "metadata": {
        "id": "Z2RBLZNewqWl",
        "colab_type": "code",
        "colab": {}
      },
      "source": [
        "from sklearn.decomposition import PCA"
      ],
      "execution_count": 0,
      "outputs": []
    },
    {
      "cell_type": "code",
      "metadata": {
        "id": "GOUdXK5nwvDn",
        "colab_type": "code",
        "colab": {}
      },
      "source": [
        "pca = PCA(n_components=8)\n",
        "pca.fit(standardized_data)\n",
        "\n"
      ],
      "execution_count": 0,
      "outputs": []
    },
    {
      "cell_type": "code",
      "metadata": {
        "id": "Wh4LB2eZxjQ8",
        "colab_type": "code",
        "colab": {}
      },
      "source": [
        "standardized_data = pca.transform(standardized_data)\n",
        "test = pca.transform(test)\n",
        "test.shape"
      ],
      "execution_count": 0,
      "outputs": []
    },
    {
      "cell_type": "code",
      "metadata": {
        "id": "36kgKsRWx4WS",
        "colab_type": "code",
        "colab": {}
      },
      "source": [
        "from sklearn.cluster import KMeans"
      ],
      "execution_count": 0,
      "outputs": []
    },
    {
      "cell_type": "code",
      "metadata": {
        "id": "6_dwOREuzwF2",
        "colab_type": "code",
        "colab": {}
      },
      "source": [
        "clf = KMeans(n_clusters=8)\n",
        "clf.fit(standardized_data)"
      ],
      "execution_count": 0,
      "outputs": []
    },
    {
      "cell_type": "code",
      "metadata": {
        "id": "P8RSrjc5mQVX",
        "colab_type": "code",
        "colab": {}
      },
      "source": [
        "test = test.drop(columns=8)"
      ],
      "execution_count": 0,
      "outputs": []
    },
    {
      "cell_type": "code",
      "metadata": {
        "id": "pDcAskgF2-j-",
        "colab_type": "code",
        "colab": {}
      },
      "source": [
        "pred = clf.predict(test)\n",
        "print(pred)\n",
        "test = pd.DataFrame(test)\n"
      ],
      "execution_count": 0,
      "outputs": []
    },
    {
      "cell_type": "code",
      "metadata": {
        "id": "ZAg6jOhLX1G4",
        "colab_type": "code",
        "colab": {}
      },
      "source": [
        "# Nice Pythonic way to get the indices of the points for each corresponding cluster\n",
        "mydict = []\n",
        "mydict = {i: np.where(clf.labels_ == i)[0] for i in range(clf.n_clusters)}\n",
        "print (mydict)\n",
        "\n",
        "\n",
        "#Transform this dictionary into list (if you need a list as result)\n",
        "dictlist = []\n",
        "for key, value in mydict.items():\n",
        "    temp = [key,value]\n",
        "    dictlist.append(temp)"
      ],
      "execution_count": 0,
      "outputs": []
    },
    {
      "cell_type": "code",
      "metadata": {
        "id": "BtXy1z3wlajv",
        "colab_type": "code",
        "colab": {}
      },
      "source": [
        "from sklearn.neighbors import KNeighborsClassifier\n",
        "knn = KNeighborsClassifier(n_neighbors=5)\n",
        "knn.fit(test,pred)"
      ],
      "execution_count": 0,
      "outputs": []
    },
    {
      "cell_type": "code",
      "metadata": {
        "id": "W-rg8zTsZDu6",
        "colab_type": "code",
        "colab": {}
      },
      "source": [
        "# test_data = pd.DataFrame(test,columns = ['Dimension1','Dimension2'])\n",
        "# def biplot(data, reduced_data, pca):\n",
        "    \n",
        "#     fig, ax = plt.subplots(figsize = (14,8))\n",
        "    \n",
        "#     # scatterplot of the reduced data \n",
        "#     ax.scatter(x=reduced_data.loc[:, 'Dimension1'], y=reduced_data.loc[:, 'Dimension2'], facecolors='b', edgecolors='b', s=70, alpha=0.5)\n",
        "    \n",
        "#     feature_vectors = pca.components_.T\n",
        "\n",
        "#     # using scaling factors to make the arrows\n",
        "#     arrow_size, text_pos = 7.0, 8.0,\n",
        "\n",
        "#     # projections of the original features\n",
        "#     for i, v in enumerate(feature_vectors):\n",
        "#         ax.arrow(0, 0, arrow_size*v[0], arrow_size*v[1], head_width=0.2, head_length=0.2, linewidth=2, color='red')\n",
        "#         #ax.text(v[0]*text_pos, v[1]*text_pos, TestD.columns[i], color='black', ha='center', va='center', fontsize=18)\n",
        "\n",
        "#     ax.set_xlabel(\"Dimension 1\", fontsize=14)\n",
        "#     ax.set_ylabel(\"Dimension 2\", fontsize=14)\n",
        "#     ax.set_title(\"PC plane with original feature projections.\", fontsize=16);\n",
        "#     return ax\n",
        "\n",
        "# biplot(TestD, test_data, pca)\n"
      ],
      "execution_count": 0,
      "outputs": []
    },
    {
      "cell_type": "code",
      "metadata": {
        "id": "wLGd-_gDFPIZ",
        "colab_type": "code",
        "colab": {}
      },
      "source": [
        "plt.plot(pca.explained_variance_ratio_)\n",
        "plt.xlabel('number of components')\n",
        "plt.ylabel('cumulative explained variance')\n",
        "plt.show()"
      ],
      "execution_count": 0,
      "outputs": []
    },
    {
      "cell_type": "code",
      "metadata": {
        "id": "w8sysemlIG2L",
        "colab_type": "code",
        "colab": {}
      },
      "source": [
        "# from sklearn.cluster import KMeans\n",
        "# from sklearn.metrics import silhouette_score\n",
        "\n",
        "# range_n_clusters = [2, 3, 4, 6, 10]            # clusters range you want to select\n",
        "# #dataToFit = [[12,23],[112,46],[45,23]]  # sample data\n",
        "# best_clusters = 0                       # best cluster number which you will get\n",
        "# previous_silh_avg = 0.0\n",
        "\n",
        "# for n_clusters in range_n_clusters:\n",
        "#     clusterer = KMeans(n_clusters=n_clusters)\n",
        "#     cluster_labels = clusterer.fit_predict(TrainData)\n",
        "#     silhouette_avg = silhouette_score(TrainData, cluster_labels)\n",
        "#     if silhouette_avg > previous_silh_avg:\n",
        "#         previous_silh_avg = silhouette_avg\n",
        "#         best_clusters = n_clusters\n",
        "#     print(best_clusters)"
      ],
      "execution_count": 0,
      "outputs": []
    }
  ]
}